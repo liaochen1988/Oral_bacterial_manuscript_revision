{
 "cells": [
  {
   "cell_type": "code",
   "execution_count": 1,
   "id": "69b0093a-c46a-40a4-9aaa-49e200e1555b",
   "metadata": {},
   "outputs": [],
   "source": [
    "import pandas as pd\n",
    "import numpy as np\n",
    "import random\n",
    "import matplotlib.pyplot as plt\n",
    "import seaborn as sns\n",
    "from collections import Counter\n",
    "from scipy.stats import linregress"
   ]
  },
  {
   "cell_type": "markdown",
   "id": "8ee6ea4f-67b9-48a4-a7c1-2982ded8e849",
   "metadata": {},
   "source": [
    "# Extended Data Fig. 7a"
   ]
  },
  {
   "cell_type": "markdown",
   "id": "f8ea3f4e-8066-4587-a6ce-5b3c15160220",
   "metadata": {},
   "source": [
    "## Find parameters of alloHCT cohort"
   ]
  },
  {
   "cell_type": "code",
   "execution_count": 2,
   "id": "26982080-d327-4789-8ca9-cc88fd1c4bc1",
   "metadata": {},
   "outputs": [
    {
     "data": {
      "text/html": [
       "<div>\n",
       "<style scoped>\n",
       "    .dataframe tbody tr th:only-of-type {\n",
       "        vertical-align: middle;\n",
       "    }\n",
       "\n",
       "    .dataframe tbody tr th {\n",
       "        vertical-align: top;\n",
       "    }\n",
       "\n",
       "    .dataframe thead th {\n",
       "        text-align: right;\n",
       "    }\n",
       "</style>\n",
       "<table border=\"1\" class=\"dataframe\">\n",
       "  <thead>\n",
       "    <tr style=\"text-align: right;\">\n",
       "      <th></th>\n",
       "      <th>PatientID</th>\n",
       "      <th>DayRelativeToNearestHCT</th>\n",
       "      <th>TotalLoad</th>\n",
       "      <th>OralFraction</th>\n",
       "      <th>OralLoad</th>\n",
       "      <th>GutFraction</th>\n",
       "      <th>GutLoad</th>\n",
       "      <th>Timepoint</th>\n",
       "      <th>StoolConsistency</th>\n",
       "      <th>FungalCulturability</th>\n",
       "      <th>log10_TotalLoad</th>\n",
       "      <th>log10_OralFraction</th>\n",
       "    </tr>\n",
       "    <tr>\n",
       "      <th>SampleID</th>\n",
       "      <th></th>\n",
       "      <th></th>\n",
       "      <th></th>\n",
       "      <th></th>\n",
       "      <th></th>\n",
       "      <th></th>\n",
       "      <th></th>\n",
       "      <th></th>\n",
       "      <th></th>\n",
       "      <th></th>\n",
       "      <th></th>\n",
       "      <th></th>\n",
       "    </tr>\n",
       "  </thead>\n",
       "  <tbody>\n",
       "    <tr>\n",
       "      <th>1015A</th>\n",
       "      <td>1015</td>\n",
       "      <td>-3</td>\n",
       "      <td>5.379385e+07</td>\n",
       "      <td>0.022657</td>\n",
       "      <td>1.218828e+06</td>\n",
       "      <td>0.977343</td>\n",
       "      <td>5.257502e+07</td>\n",
       "      <td>0</td>\n",
       "      <td>liquid</td>\n",
       "      <td>NaN</td>\n",
       "      <td>7.730733</td>\n",
       "      <td>-1.644790</td>\n",
       "    </tr>\n",
       "    <tr>\n",
       "      <th>1015D</th>\n",
       "      <td>1015</td>\n",
       "      <td>18</td>\n",
       "      <td>3.877487e+03</td>\n",
       "      <td>0.001502</td>\n",
       "      <td>5.822054e+00</td>\n",
       "      <td>0.998498</td>\n",
       "      <td>3.871665e+03</td>\n",
       "      <td>21</td>\n",
       "      <td>liquid</td>\n",
       "      <td>NaN</td>\n",
       "      <td>3.588550</td>\n",
       "      <td>-2.823474</td>\n",
       "    </tr>\n",
       "    <tr>\n",
       "      <th>1015G</th>\n",
       "      <td>1015</td>\n",
       "      <td>48</td>\n",
       "      <td>5.280994e+06</td>\n",
       "      <td>0.027263</td>\n",
       "      <td>1.439751e+05</td>\n",
       "      <td>0.972737</td>\n",
       "      <td>5.137019e+06</td>\n",
       "      <td>51</td>\n",
       "      <td>liquid</td>\n",
       "      <td>NaN</td>\n",
       "      <td>6.722716</td>\n",
       "      <td>-1.564428</td>\n",
       "    </tr>\n",
       "    <tr>\n",
       "      <th>1015H</th>\n",
       "      <td>1015</td>\n",
       "      <td>61</td>\n",
       "      <td>7.332446e+05</td>\n",
       "      <td>0.075463</td>\n",
       "      <td>5.533312e+04</td>\n",
       "      <td>0.924537</td>\n",
       "      <td>6.779115e+05</td>\n",
       "      <td>64</td>\n",
       "      <td>liquid</td>\n",
       "      <td>NaN</td>\n",
       "      <td>5.865249</td>\n",
       "      <td>-1.122264</td>\n",
       "    </tr>\n",
       "    <tr>\n",
       "      <th>1016A</th>\n",
       "      <td>1016</td>\n",
       "      <td>3</td>\n",
       "      <td>5.752710e+06</td>\n",
       "      <td>0.176350</td>\n",
       "      <td>1.014493e+06</td>\n",
       "      <td>0.823650</td>\n",
       "      <td>4.738217e+06</td>\n",
       "      <td>0</td>\n",
       "      <td>semi-formed</td>\n",
       "      <td>NaN</td>\n",
       "      <td>6.759872</td>\n",
       "      <td>-0.753623</td>\n",
       "    </tr>\n",
       "  </tbody>\n",
       "</table>\n",
       "</div>"
      ],
      "text/plain": [
       "         PatientID  DayRelativeToNearestHCT     TotalLoad  OralFraction  \\\n",
       "SampleID                                                                  \n",
       "1015A         1015                       -3  5.379385e+07      0.022657   \n",
       "1015D         1015                       18  3.877487e+03      0.001502   \n",
       "1015G         1015                       48  5.280994e+06      0.027263   \n",
       "1015H         1015                       61  7.332446e+05      0.075463   \n",
       "1016A         1016                        3  5.752710e+06      0.176350   \n",
       "\n",
       "              OralLoad  GutFraction       GutLoad  Timepoint StoolConsistency  \\\n",
       "SampleID                                                                        \n",
       "1015A     1.218828e+06     0.977343  5.257502e+07          0           liquid   \n",
       "1015D     5.822054e+00     0.998498  3.871665e+03         21           liquid   \n",
       "1015G     1.439751e+05     0.972737  5.137019e+06         51           liquid   \n",
       "1015H     5.533312e+04     0.924537  6.779115e+05         64           liquid   \n",
       "1016A     1.014493e+06     0.823650  4.738217e+06          0      semi-formed   \n",
       "\n",
       "          FungalCulturability  log10_TotalLoad  log10_OralFraction  \n",
       "SampleID                                                            \n",
       "1015A                     NaN         7.730733           -1.644790  \n",
       "1015D                     NaN         3.588550           -2.823474  \n",
       "1015G                     NaN         6.722716           -1.564428  \n",
       "1015H                     NaN         5.865249           -1.122264  \n",
       "1016A                     NaN         6.759872           -0.753623  "
      ]
     },
     "execution_count": 2,
     "metadata": {},
     "output_type": "execute_result"
    }
   ],
   "source": [
    "df_sample = pd.read_excel(\"../Fig3|FigS1_S3|EDFig6_9|TableS5/ST4_oralASV_alloHCT.xlsx\", sheet_name='Table S4b')\n",
    "df_sample['Patient ID'] = df_sample['Patient ID'].astype(str)\n",
    "df_sample.columns = ['SampleID','PatientID','DayRelativeToNearestHCT','TotalLoad','OralFraction','OralLoad','GutFraction','GutLoad','Timepoint','StoolConsistency','FungalCulturability']\n",
    "df_sample = df_sample.set_index('SampleID')\n",
    "df_sample = df_sample[(df_sample.TotalLoad >= 1e3) & (df_sample.OralFraction > 0)]\n",
    "df_sample['log10_TotalLoad'] = np.log10(df_sample.TotalLoad)\n",
    "df_sample['log10_OralFraction'] = np.log10(df_sample.OralFraction)\n",
    "df_sample.head()"
   ]
  },
  {
   "cell_type": "code",
   "execution_count": 3,
   "id": "ec7ed865-a848-480d-8c1f-9dd701cafb42",
   "metadata": {},
   "outputs": [
    {
     "data": {
      "text/html": [
       "<div>\n",
       "<style scoped>\n",
       "    .dataframe tbody tr th:only-of-type {\n",
       "        vertical-align: middle;\n",
       "    }\n",
       "\n",
       "    .dataframe tbody tr th {\n",
       "        vertical-align: top;\n",
       "    }\n",
       "\n",
       "    .dataframe thead th {\n",
       "        text-align: right;\n",
       "    }\n",
       "</style>\n",
       "<table border=\"1\" class=\"dataframe\">\n",
       "  <thead>\n",
       "    <tr style=\"text-align: right;\">\n",
       "      <th></th>\n",
       "      <th>PatientID</th>\n",
       "      <th>Antibiotic</th>\n",
       "      <th>DayRelativeToNearestHCT</th>\n",
       "      <th>Timepoint</th>\n",
       "    </tr>\n",
       "  </thead>\n",
       "  <tbody>\n",
       "    <tr>\n",
       "      <th>0</th>\n",
       "      <td>1000</td>\n",
       "      <td>quinolones</td>\n",
       "      <td>-169</td>\n",
       "      <td>-160</td>\n",
       "    </tr>\n",
       "    <tr>\n",
       "      <th>1</th>\n",
       "      <td>1000</td>\n",
       "      <td>aztreonam</td>\n",
       "      <td>-160</td>\n",
       "      <td>-151</td>\n",
       "    </tr>\n",
       "    <tr>\n",
       "      <th>2</th>\n",
       "      <td>1000</td>\n",
       "      <td>vancomycin_iv</td>\n",
       "      <td>-160</td>\n",
       "      <td>-151</td>\n",
       "    </tr>\n",
       "    <tr>\n",
       "      <th>3</th>\n",
       "      <td>1000</td>\n",
       "      <td>aztreonam</td>\n",
       "      <td>-159</td>\n",
       "      <td>-150</td>\n",
       "    </tr>\n",
       "    <tr>\n",
       "      <th>4</th>\n",
       "      <td>1000</td>\n",
       "      <td>vancomycin_iv</td>\n",
       "      <td>-159</td>\n",
       "      <td>-150</td>\n",
       "    </tr>\n",
       "  </tbody>\n",
       "</table>\n",
       "</div>"
      ],
      "text/plain": [
       "  PatientID     Antibiotic  DayRelativeToNearestHCT  Timepoint\n",
       "0      1000     quinolones                     -169       -160\n",
       "1      1000      aztreonam                     -160       -151\n",
       "2      1000  vancomycin_iv                     -160       -151\n",
       "3      1000      aztreonam                     -159       -150\n",
       "4      1000  vancomycin_iv                     -159       -150"
      ]
     },
     "execution_count": 3,
     "metadata": {},
     "output_type": "execute_result"
    }
   ],
   "source": [
    "df_drug = pd.read_csv(\"../Fig3|FigS1_S3|EDFig6_9|TableS5/antibiotic_exposure_long_format.csv.gz\", compression=\"gzip\", low_memory=False)\n",
    "df_drug.PatientID = df_drug.PatientID.astype(str)\n",
    "df_drug.head()"
   ]
  },
  {
   "cell_type": "code",
   "execution_count": 4,
   "id": "794bc12d-8736-46b1-bd36-cdb5612e15ee",
   "metadata": {},
   "outputs": [
    {
     "data": {
      "text/html": [
       "<div>\n",
       "<style scoped>\n",
       "    .dataframe tbody tr th:only-of-type {\n",
       "        vertical-align: middle;\n",
       "    }\n",
       "\n",
       "    .dataframe tbody tr th {\n",
       "        vertical-align: top;\n",
       "    }\n",
       "\n",
       "    .dataframe thead th {\n",
       "        text-align: right;\n",
       "    }\n",
       "</style>\n",
       "<table border=\"1\" class=\"dataframe\">\n",
       "  <thead>\n",
       "    <tr style=\"text-align: right;\">\n",
       "      <th></th>\n",
       "      <th>PatientID</th>\n",
       "      <th>TimepointOfTransplant</th>\n",
       "      <th>HCTSource</th>\n",
       "      <th>Disease</th>\n",
       "      <th>EngraftmentDayRelativeToNearestHCT</th>\n",
       "    </tr>\n",
       "  </thead>\n",
       "  <tbody>\n",
       "    <tr>\n",
       "      <th>0</th>\n",
       "      <td>FMT.0161</td>\n",
       "      <td>30</td>\n",
       "      <td>TCD</td>\n",
       "      <td>Multiple Myeloma</td>\n",
       "      <td>10.0</td>\n",
       "    </tr>\n",
       "    <tr>\n",
       "      <th>1</th>\n",
       "      <td>667</td>\n",
       "      <td>8</td>\n",
       "      <td>PBSC_unmodified</td>\n",
       "      <td>Leukemia</td>\n",
       "      <td>12.0</td>\n",
       "    </tr>\n",
       "    <tr>\n",
       "      <th>2</th>\n",
       "      <td>1277</td>\n",
       "      <td>5</td>\n",
       "      <td>PBSC_unmodified</td>\n",
       "      <td>Leukemia</td>\n",
       "      <td>11.0</td>\n",
       "    </tr>\n",
       "    <tr>\n",
       "      <th>3</th>\n",
       "      <td>464</td>\n",
       "      <td>8</td>\n",
       "      <td>BM_unmodified</td>\n",
       "      <td>Leukemia</td>\n",
       "      <td>19.0</td>\n",
       "    </tr>\n",
       "    <tr>\n",
       "      <th>4</th>\n",
       "      <td>420</td>\n",
       "      <td>6</td>\n",
       "      <td>cord</td>\n",
       "      <td>Non-Hodgkin's Lymphoma</td>\n",
       "      <td>13.0</td>\n",
       "    </tr>\n",
       "  </tbody>\n",
       "</table>\n",
       "</div>"
      ],
      "text/plain": [
       "  PatientID  TimepointOfTransplant        HCTSource                 Disease  \\\n",
       "0  FMT.0161                     30              TCD        Multiple Myeloma   \n",
       "1       667                      8  PBSC_unmodified                Leukemia   \n",
       "2      1277                      5  PBSC_unmodified                Leukemia   \n",
       "3       464                      8    BM_unmodified                Leukemia   \n",
       "4       420                      6             cord  Non-Hodgkin's Lymphoma   \n",
       "\n",
       "   EngraftmentDayRelativeToNearestHCT  \n",
       "0                                10.0  \n",
       "1                                12.0  \n",
       "2                                11.0  \n",
       "3                                19.0  \n",
       "4                                13.0  "
      ]
     },
     "execution_count": 4,
     "metadata": {},
     "output_type": "execute_result"
    }
   ],
   "source": [
    "df_hctmeta = pd.read_csv(\"../Fig3|FigS1_S3|EDFig6_9|TableS5/metadata.csv\")\n",
    "df_hctmeta.PatientID = df_hctmeta.PatientID.astype(str)\n",
    "df_hctmeta.head()"
   ]
  },
  {
   "cell_type": "code",
   "execution_count": 5,
   "id": "21945881-b6bb-44bd-9ad3-1f971262dab4",
   "metadata": {},
   "outputs": [],
   "source": [
    "pre_samples = []\n",
    "post_samples = []\n",
    "for pid in set(df_sample.PatientID):\n",
    "    df2_sample = df_sample[df_sample.PatientID==pid].sort_values('Timepoint')\n",
    "    transplant_tps = list(df_hctmeta[df_hctmeta.PatientID==pid].TimepointOfTransplant)\n",
    "    for ttps in transplant_tps:\n",
    "        df2_drug = df_drug[(df_drug.PatientID == pid) & (df_drug.Timepoint >= ttps-20) & (df_drug.Timepoint <= ttps+40)]\n",
    "        if len(df2_drug)>0:\n",
    "            prophylaxis_timepoint = df2_drug.Timepoint.min()\n",
    "            pre_samples.extend(list(df2_sample[(df2_sample.Timepoint >= ttps-20) & (df2_sample.Timepoint < prophylaxis_timepoint)].index))\n",
    "            post_samples.extend(list(df2_sample[(df2_sample.Timepoint >= prophylaxis_timepoint) & (df2_sample.Timepoint <= ttps+40)].index))\n",
    "        else:\n",
    "            post_samples.extend(list(df2_sample[(df2_sample.Timepoint >= ttps-20) & (df2_sample.Timepoint <= ttps+40)].index))"
   ]
  },
  {
   "cell_type": "code",
   "execution_count": 6,
   "id": "8424900c-c047-44ed-a761-b1895dde4ddb",
   "metadata": {},
   "outputs": [
    {
     "data": {
      "text/plain": [
       "(185, 2339)"
      ]
     },
     "execution_count": 6,
     "metadata": {},
     "output_type": "execute_result"
    }
   ],
   "source": [
    "len(pre_samples), len(post_samples)"
   ]
  },
  {
   "cell_type": "markdown",
   "id": "34ab7b45-effe-4d29-a19a-7a8c80edfce3",
   "metadata": {},
   "source": [
    "## maximum oral bacterial fraction"
   ]
  },
  {
   "cell_type": "code",
   "execution_count": 7,
   "id": "bcaba248-5144-45e6-989b-7c369790029c",
   "metadata": {},
   "outputs": [
    {
     "data": {
      "text/plain": [
       "0.95001897"
      ]
     },
     "execution_count": 7,
     "metadata": {},
     "output_type": "execute_result"
    }
   ],
   "source": [
    "df_sample.loc[pre_samples+post_samples].OralFraction.max()"
   ]
  },
  {
   "cell_type": "markdown",
   "id": "a31a6af4-e079-4c6c-a7ce-43d21eddd8c4",
   "metadata": {},
   "source": [
    "## mean and std of oral bacterial fraction among pre-samples"
   ]
  },
  {
   "cell_type": "code",
   "execution_count": 8,
   "id": "0b54554b-cc5a-4bea-960d-cf514bd0e226",
   "metadata": {},
   "outputs": [
    {
     "data": {
      "text/plain": [
       "(-1.7181923138784434, 0.6992760323562289)"
      ]
     },
     "execution_count": 8,
     "metadata": {},
     "output_type": "execute_result"
    }
   ],
   "source": [
    "df_sample.loc[pre_samples].log10_OralFraction.mean(), df_sample.loc[pre_samples].log10_OralFraction.std()"
   ]
  },
  {
   "cell_type": "markdown",
   "id": "c5e4ed62-fe17-41a9-89fb-e5efddca9e2a",
   "metadata": {},
   "source": [
    "## mean and std of total bacterial load among pre-samples"
   ]
  },
  {
   "cell_type": "code",
   "execution_count": 9,
   "id": "558076d0-491c-4eb4-9673-b39d6baa36b6",
   "metadata": {},
   "outputs": [
    {
     "data": {
      "text/plain": [
       "(7.788173338393203, 0.9863427130085025)"
      ]
     },
     "execution_count": 9,
     "metadata": {},
     "output_type": "execute_result"
    }
   ],
   "source": [
    "df_sample.loc[pre_samples].log10_TotalLoad.mean(), df_sample.loc[pre_samples].log10_TotalLoad.std()"
   ]
  },
  {
   "cell_type": "markdown",
   "id": "be0ebb88-914b-4d68-92a4-300c0c486fe2",
   "metadata": {},
   "source": [
    "## standard deviation ratio"
   ]
  },
  {
   "cell_type": "code",
   "execution_count": 10,
   "id": "7bc3c385-2df5-4d74-8d70-fbe0ef9c0428",
   "metadata": {},
   "outputs": [
    {
     "data": {
      "text/plain": [
       "0.7089584818073279"
      ]
     },
     "execution_count": 10,
     "metadata": {},
     "output_type": "execute_result"
    }
   ],
   "source": [
    "df_sample.loc[pre_samples].log10_OralFraction.std()/df_sample.loc[pre_samples].log10_TotalLoad.std()"
   ]
  },
  {
   "cell_type": "markdown",
   "id": "80ccdcb0-ff67-4693-9c4d-9088528ee1b8",
   "metadata": {},
   "source": [
    "## Simulate oral bacterial fraction and total bacterial load under pure Marker and Expansion hypotheses"
   ]
  },
  {
   "cell_type": "code",
   "execution_count": 11,
   "id": "bd8d6f06-3593-46c7-b4fe-09abca07f76b",
   "metadata": {},
   "outputs": [],
   "source": [
    "mu_x = -1.72  # mean of Gaussian distribution of log10(oral bacterial fraction)\n",
    "mu_y = 7.79 # mean of Gaussian distribution of log10(total bacterial load)\n",
    "sigma_array = [float(\"%2.2f\"%(x)) for x in np.linspace(0,2,201)] # standard deviation of the two Gaussian distributions\n",
    "n_control = 185 # number of control group individuals\n",
    "n_patient = 2339 # number of treatment group individuals\n",
    "max_oralfrac = np.log10(1)\n",
    "sigma_ratio = 0.71\n",
    "mc_runs = 50 # number of repeats"
   ]
  },
  {
   "cell_type": "code",
   "execution_count": 12,
   "id": "cebec07f-3259-4692-8916-e754ca79bd47",
   "metadata": {},
   "outputs": [],
   "source": [
    "res = []\n",
    "for k in np.arange(mc_runs):\n",
    "    for sigma_y in sigma_array:\n",
    "        sigma_x = sigma_ratio * sigma_y\n",
    "        cov = np.array([[sigma_x, 0], [0, sigma_y]]) # covariance matrix\n",
    "        \n",
    "        # create baseline samples for healthy controls\n",
    "        # create double samples in case some values fall out of allowed ranges\n",
    "        baselines_hc = np.random.multivariate_normal([mu_x, mu_y], cov, size=int(n_control*2)) # generate baseline for individuals\n",
    "        df_baselines_hc = pd.DataFrame(baselines_hc, columns=['mu_x','mu_y'])\n",
    "        df_baselines_hc = df_baselines_hc[(df_baselines_hc.mu_x<0) & (df_baselines_hc.mu_y>0)].reset_index(drop=True)\n",
    "        df_baselines_hc = df_baselines_hc.iloc[0:n_control, :]\n",
    "        \n",
    "        # add simulated data for control group\n",
    "        for i in np.arange(n_control):\n",
    "            ctr_x = df_baselines_hc.iloc[i,0]\n",
    "            ctr_y = df_baselines_hc.iloc[i,1]\n",
    "            res.append([sigma_y, k, i, ctr_x, ctr_y, 'marker'])\n",
    "            res.append([sigma_y, k, i, ctr_x, ctr_y, 'expansion'])\n",
    "                    \n",
    "        # create baseline samples for patients\n",
    "        # create double samples in case some values fall out of allowed ranges\n",
    "        baselines_pa = np.random.multivariate_normal([mu_x, mu_y], cov, size=int(n_patient*2)) # generate baseline for individuals\n",
    "        df_baselines_pa = pd.DataFrame(baselines_pa, columns=['mu_x','mu_y'])\n",
    "        df_baselines_pa = df_baselines_pa[(df_baselines_pa.mu_x<0) & (df_baselines_pa.mu_y>0)].reset_index(drop=True)\n",
    "        df_baselines_pa = df_baselines_pa.iloc[0:n_patient, :]\n",
    "\n",
    "        # generate perturbed sample for treatment group individuals and add simulated data\n",
    "        for i in np.arange(n_patient):\n",
    "            ctr_x = df_baselines_pa.iloc[i,0]\n",
    "            ctr_y = df_baselines_pa.iloc[i,1]\n",
    "\n",
    "            # perturb oral bacterial fraction and total bacterial load\n",
    "            # randomly sample oral fraction between mu_x and 0\n",
    "\n",
    "            # marker hypothesis\n",
    "            while 1:\n",
    "                perturbed_x = np.random.uniform(low=ctr_x, high=max_oralfrac, size=1)[0]\n",
    "                new_mu_y = ctr_y-(perturbed_x-ctr_x)\n",
    "                if new_mu_y<0:\n",
    "                    continue\n",
    "                else:\n",
    "                    res.append([sigma_y, k, i, perturbed_x, new_mu_y, 'marker'])\n",
    "                    break\n",
    "                    \n",
    "            # expansion hypothesis\n",
    "            gut_load = (1-10**ctr_x) * (10**ctr_y)\n",
    "            new_mu_y = np.log10(gut_load/(1-10**perturbed_x))\n",
    "            res.append([sigma_y, k, i, perturbed_x, new_mu_y, 'expansion'])\n",
    "\n",
    "df_res = pd.DataFrame(res, columns=['Sigma','MC','Individual','X','Y','Hypothesis'])\n",
    "df_res.to_csv(\"simulated_alloHCT_data_%d_%d.csv.gz\"%(n_control, n_patient), compression='gzip', index=False)"
   ]
  },
  {
   "cell_type": "markdown",
   "id": "ea08fd2f-7f17-4a79-9268-4f76126d6336",
   "metadata": {},
   "source": [
    "## Plot slope vs sigma across different MC runs"
   ]
  },
  {
   "cell_type": "code",
   "execution_count": 13,
   "id": "bafc7d06-6a67-470f-bfe9-bff7c512ee71",
   "metadata": {},
   "outputs": [
    {
     "data": {
      "text/html": [
       "<div>\n",
       "<style scoped>\n",
       "    .dataframe tbody tr th:only-of-type {\n",
       "        vertical-align: middle;\n",
       "    }\n",
       "\n",
       "    .dataframe tbody tr th {\n",
       "        vertical-align: top;\n",
       "    }\n",
       "\n",
       "    .dataframe thead th {\n",
       "        text-align: right;\n",
       "    }\n",
       "</style>\n",
       "<table border=\"1\" class=\"dataframe\">\n",
       "  <thead>\n",
       "    <tr style=\"text-align: right;\">\n",
       "      <th></th>\n",
       "      <th>MCrun</th>\n",
       "      <th>Hypothesis</th>\n",
       "      <th>Sigma</th>\n",
       "      <th>Slope</th>\n",
       "    </tr>\n",
       "  </thead>\n",
       "  <tbody>\n",
       "    <tr>\n",
       "      <th>0</th>\n",
       "      <td>0</td>\n",
       "      <td>marker</td>\n",
       "      <td>0.00</td>\n",
       "      <td>-1.000000</td>\n",
       "    </tr>\n",
       "    <tr>\n",
       "      <th>1</th>\n",
       "      <td>0</td>\n",
       "      <td>marker</td>\n",
       "      <td>0.01</td>\n",
       "      <td>-0.987283</td>\n",
       "    </tr>\n",
       "    <tr>\n",
       "      <th>2</th>\n",
       "      <td>0</td>\n",
       "      <td>marker</td>\n",
       "      <td>0.02</td>\n",
       "      <td>-0.970285</td>\n",
       "    </tr>\n",
       "    <tr>\n",
       "      <th>3</th>\n",
       "      <td>0</td>\n",
       "      <td>marker</td>\n",
       "      <td>0.03</td>\n",
       "      <td>-0.967345</td>\n",
       "    </tr>\n",
       "    <tr>\n",
       "      <th>4</th>\n",
       "      <td>0</td>\n",
       "      <td>marker</td>\n",
       "      <td>0.04</td>\n",
       "      <td>-0.945624</td>\n",
       "    </tr>\n",
       "  </tbody>\n",
       "</table>\n",
       "</div>"
      ],
      "text/plain": [
       "   MCrun Hypothesis  Sigma     Slope\n",
       "0      0     marker   0.00 -1.000000\n",
       "1      0     marker   0.01 -0.987283\n",
       "2      0     marker   0.02 -0.970285\n",
       "3      0     marker   0.03 -0.967345\n",
       "4      0     marker   0.04 -0.945624"
      ]
     },
     "execution_count": 13,
     "metadata": {},
     "output_type": "execute_result"
    }
   ],
   "source": [
    "pcc = []\n",
    "df_res1 = pd.read_csv(\"simulated_alloHCT_data_%d_%d_batch1.csv.gz\"%(n_control, n_patient), compression='gzip')\n",
    "df_res2 = pd.read_csv(\"simulated_alloHCT_data_%d_%d_batch2.csv.gz\"%(n_control, n_patient), compression='gzip')\n",
    "df_res = pd.concat([df_res1, df_res2], axis=0)\n",
    "for m in np.arange(mc_runs):\n",
    "    df_res2_m = df_res[df_res.MC==m]\n",
    "    for h in ['marker','expansion']:\n",
    "        df_res2_m_h = df_res2_m[df_res2_m.Hypothesis==h]\n",
    "        for sigma in sigma_array:\n",
    "            slope, intercept, r, p, se = linregress(df_res2_m_h[df_res2_m_h.Sigma==sigma].X, df_res2_m_h[df_res2_m_h.Sigma==sigma].Y)\n",
    "            pcc.append([m, h, sigma, slope])\n",
    "df_pcc = pd.DataFrame(pcc, columns=['MCrun','Hypothesis','Sigma','Slope'])\n",
    "df_pcc.head()"
   ]
  },
  {
   "cell_type": "code",
   "execution_count": 14,
   "id": "c3f4e918-0377-4386-8a5c-f89e8cf0b96d",
   "metadata": {},
   "outputs": [
    {
     "data": {
      "image/png": "[encoded data removed]",
      "text/plain": [
       "<Figure size 500x500 with 1 Axes>"
      ]
     },
     "metadata": {},
     "output_type": "display_data"
    }
   ],
   "source": [
    "fig, ax = plt.subplots(figsize=(5,5))\n",
    "_ = sns.lineplot(x=\"Sigma\", y=\"Slope\", hue='Hypothesis', data=df_pcc, ax=ax, marker=None, errorbar='sd',\n",
    "                 hue_order=['expansion','marker'], palette=['red','blue'])\n",
    "_ = ax.plot([0,2],[-0.365,-0.365],'k--')\n",
    "_ = ax.plot([0.99,0.99],[-1,0.4],'k--')\n",
    "_ = ax.set_xlim([0,2])\n",
    "_ = ax.set_ylim([-1,0.4])\n",
    "_ = ax.plot([0,2],[0,0],'k--')               \n",
    "_ = ax.get_legend().set_visible(False)\n",
    "_ = ax.set_xlabel('Interindividual variability')"
   ]
  },
  {
   "cell_type": "code",
   "execution_count": 15,
   "id": "361f590a-bb38-486d-909a-78537e449eca",
   "metadata": {},
   "outputs": [
    {
     "data": {
      "text/plain": [
       "(-0.36485788685595893, 0.024189848679408838)"
      ]
     },
     "execution_count": 15,
     "metadata": {},
     "output_type": "execute_result"
    }
   ],
   "source": [
    "df_pcc[(df_pcc.Hypothesis=='marker')&(df_pcc.Sigma==0.99)].Slope.mean(), df_pcc[(df_pcc.Hypothesis=='marker')&(df_pcc.Sigma==0.99)].Slope.std()"
   ]
  },
  {
   "cell_type": "markdown",
   "id": "10edc29a-b60e-47ed-9d66-cea84b0ed2c1",
   "metadata": {},
   "source": [
    "# Extended Data Fig. 7b"
   ]
  },
  {
   "cell_type": "markdown",
   "id": "fea30e0d-17d0-4a14-b2fc-b3ac11643a4a",
   "metadata": {},
   "source": [
    "## Find parameters of the Crohn disease cohort"
   ]
  },
  {
   "cell_type": "code",
   "execution_count": 16,
   "id": "c7421499-3039-4f07-abbd-aa2ca4be2a4d",
   "metadata": {},
   "outputs": [
    {
     "data": {
      "text/html": [
       "<div>\n",
       "<style scoped>\n",
       "    .dataframe tbody tr th:only-of-type {\n",
       "        vertical-align: middle;\n",
       "    }\n",
       "\n",
       "    .dataframe tbody tr th {\n",
       "        vertical-align: top;\n",
       "    }\n",
       "\n",
       "    .dataframe thead th {\n",
       "        text-align: right;\n",
       "    }\n",
       "</style>\n",
       "<table border=\"1\" class=\"dataframe\">\n",
       "  <thead>\n",
       "    <tr style=\"text-align: right;\">\n",
       "      <th></th>\n",
       "      <th>SampleID</th>\n",
       "      <th>OralFraction</th>\n",
       "      <th>MicrobiotaDensity</th>\n",
       "      <th>Group</th>\n",
       "      <th>log10_OralFraction</th>\n",
       "      <th>log10_MicrobiotaDensity</th>\n",
       "    </tr>\n",
       "  </thead>\n",
       "  <tbody>\n",
       "    <tr>\n",
       "      <th>0</th>\n",
       "      <td>ERR2015047</td>\n",
       "      <td>0.000826</td>\n",
       "      <td>1.900000e+11</td>\n",
       "      <td>HC</td>\n",
       "      <td>-3.083099</td>\n",
       "      <td>11.278754</td>\n",
       "    </tr>\n",
       "    <tr>\n",
       "      <th>1</th>\n",
       "      <td>ERR2015048</td>\n",
       "      <td>0.101783</td>\n",
       "      <td>1.480000e+11</td>\n",
       "      <td>HC</td>\n",
       "      <td>-0.992326</td>\n",
       "      <td>11.170262</td>\n",
       "    </tr>\n",
       "    <tr>\n",
       "      <th>2</th>\n",
       "      <td>ERR2015049</td>\n",
       "      <td>0.001470</td>\n",
       "      <td>1.170000e+11</td>\n",
       "      <td>HC</td>\n",
       "      <td>-2.832611</td>\n",
       "      <td>11.068186</td>\n",
       "    </tr>\n",
       "    <tr>\n",
       "      <th>4</th>\n",
       "      <td>ERR2015051</td>\n",
       "      <td>0.000304</td>\n",
       "      <td>1.060000e+11</td>\n",
       "      <td>HC</td>\n",
       "      <td>-3.516721</td>\n",
       "      <td>11.025306</td>\n",
       "    </tr>\n",
       "    <tr>\n",
       "      <th>5</th>\n",
       "      <td>ERR2015052</td>\n",
       "      <td>0.002778</td>\n",
       "      <td>9.823538e+10</td>\n",
       "      <td>HC</td>\n",
       "      <td>-2.556290</td>\n",
       "      <td>10.992268</td>\n",
       "    </tr>\n",
       "  </tbody>\n",
       "</table>\n",
       "</div>"
      ],
      "text/plain": [
       "     SampleID  OralFraction  MicrobiotaDensity Group  log10_OralFraction  \\\n",
       "0  ERR2015047      0.000826       1.900000e+11    HC           -3.083099   \n",
       "1  ERR2015048      0.101783       1.480000e+11    HC           -0.992326   \n",
       "2  ERR2015049      0.001470       1.170000e+11    HC           -2.832611   \n",
       "4  ERR2015051      0.000304       1.060000e+11    HC           -3.516721   \n",
       "5  ERR2015052      0.002778       9.823538e+10    HC           -2.556290   \n",
       "\n",
       "   log10_MicrobiotaDensity  \n",
       "0                11.278754  \n",
       "1                11.170262  \n",
       "2                11.068186  \n",
       "4                11.025306  \n",
       "5                10.992268  "
      ]
     },
     "execution_count": 16,
     "metadata": {},
     "output_type": "execute_result"
    }
   ],
   "source": [
    "df_cd = pd.read_csv(\"../Fig4/metadata.csv\")[['SampleID','OralFraction','MicrobiotaDensity','Group']]\n",
    "df_cd = df_cd[df_cd.OralFraction>0]\n",
    "df_cd['log10_OralFraction'] = np.log10(df_cd.OralFraction)\n",
    "df_cd['log10_MicrobiotaDensity'] = np.log10(df_cd.MicrobiotaDensity)\n",
    "df_cd.head()"
   ]
  },
  {
   "cell_type": "code",
   "execution_count": 17,
   "id": "26c9b510-a050-4866-83bd-bd66fbb439d7",
   "metadata": {},
   "outputs": [
    {
     "data": {
      "text/plain": [
       "Counter({'HC': 80, 'CD': 17})"
      ]
     },
     "execution_count": 17,
     "metadata": {},
     "output_type": "execute_result"
    }
   ],
   "source": [
    "Counter(df_cd.Group)"
   ]
  },
  {
   "cell_type": "markdown",
   "id": "a5f92061-80e6-47a4-9f1f-f8f3c9414ba9",
   "metadata": {},
   "source": [
    "### maximum oral bacterial fraction"
   ]
  },
  {
   "cell_type": "code",
   "execution_count": 18,
   "id": "fd5d4b2f-6d19-44b0-988f-bfbddba9e01f",
   "metadata": {},
   "outputs": [
    {
     "data": {
      "text/plain": [
       "0.193047194"
      ]
     },
     "execution_count": 18,
     "metadata": {},
     "output_type": "execute_result"
    }
   ],
   "source": [
    "df_cd.OralFraction.max()"
   ]
  },
  {
   "cell_type": "markdown",
   "id": "6d37954e-ab2f-40b9-b51f-1572dcfae549",
   "metadata": {},
   "source": [
    "### mean and std of oral bacterial fraction of healthy individuals"
   ]
  },
  {
   "cell_type": "code",
   "execution_count": 19,
   "id": "d790163b-b606-4e0a-9ec9-879e8191805b",
   "metadata": {},
   "outputs": [
    {
     "data": {
      "text/plain": [
       "(-2.7121822741861363, 0.48300574750658454)"
      ]
     },
     "execution_count": 19,
     "metadata": {},
     "output_type": "execute_result"
    }
   ],
   "source": [
    "df_cd[df_cd.Group=='HC'].log10_OralFraction.mean(), df_cd[df_cd.Group=='HC'].log10_OralFraction.std()"
   ]
  },
  {
   "cell_type": "markdown",
   "id": "21d331ae-40f3-4d94-885c-26fd9ff5ba3b",
   "metadata": {},
   "source": [
    "### mean and std of microbiota density of healthy individuals"
   ]
  },
  {
   "cell_type": "code",
   "execution_count": 20,
   "id": "b9bd6f1f-4a34-4a2c-8d0f-179805886998",
   "metadata": {},
   "outputs": [
    {
     "data": {
      "text/plain": [
       "(11.01484503194845, 0.3303919255309847)"
      ]
     },
     "execution_count": 20,
     "metadata": {},
     "output_type": "execute_result"
    }
   ],
   "source": [
    "df_cd[df_cd.Group=='HC'].log10_MicrobiotaDensity.mean(), df_cd[df_cd.Group=='HC'].log10_MicrobiotaDensity.std()"
   ]
  },
  {
   "cell_type": "markdown",
   "id": "9c2db912-a1b0-47e2-9948-cbd81f15d14d",
   "metadata": {},
   "source": [
    "### standard deviation ratio"
   ]
  },
  {
   "cell_type": "code",
   "execution_count": 21,
   "id": "4da7ee8d-e687-4e12-b7d6-f63a1d4cfc3c",
   "metadata": {},
   "outputs": [
    {
     "data": {
      "text/plain": [
       "1.4619175294018725"
      ]
     },
     "execution_count": 21,
     "metadata": {},
     "output_type": "execute_result"
    }
   ],
   "source": [
    "df_cd[df_cd.Group=='HC'].log10_OralFraction.std()/df_cd[df_cd.Group=='HC'].log10_MicrobiotaDensity.std()"
   ]
  },
  {
   "cell_type": "markdown",
   "id": "84e0cc00-6d93-40bb-8e5f-d6b79f843a46",
   "metadata": {},
   "source": [
    "## Simulate oral bacterial fraction and total bacterial load under pure Marker and Expansion hypotheses"
   ]
  },
  {
   "cell_type": "code",
   "execution_count": 22,
   "id": "0fac5298-be6f-4bb7-917c-9231242ea406",
   "metadata": {},
   "outputs": [],
   "source": [
    "mu_x = -2.71  # mean of Gaussian distribution of log10(oral bacterial fraction)\n",
    "mu_y = 11.01 # mean of Gaussian distribution of log10(total bacterial load)\n",
    "sigma_array = [float(\"%2.2f\"%(x)) for x in np.linspace(0,2,201)] # standard deviation of the two Gaussian distributions\n",
    "n_control = 80 # number of control group individuals\n",
    "n_patient = 17 # number of treatment group individuals\n",
    "max_oralfrac = np.log10(0.2)\n",
    "sigma_ratio = 1.46\n",
    "mc_runs = 100 # number of repeats"
   ]
  },
  {
   "cell_type": "code",
   "execution_count": 23,
   "id": "cbaf38e0-4a84-4189-824f-e087648d3813",
   "metadata": {},
   "outputs": [],
   "source": [
    "res = []\n",
    "for k in np.arange(mc_runs):\n",
    "    for sigma_y in sigma_array:\n",
    "        sigma_x = sigma_ratio * sigma_y\n",
    "        cov = np.array([[sigma_x, 0], [0, sigma_y]]) # covariance matrix\n",
    "        \n",
    "        # create baseline samples for healthy controls\n",
    "        # create double samples in case some values fall out of allowed ranges\n",
    "        baselines_hc = np.random.multivariate_normal([mu_x, mu_y], cov, size=int(n_control*2)) # generate baseline for individuals\n",
    "        df_baselines_hc = pd.DataFrame(baselines_hc, columns=['mu_x','mu_y'])\n",
    "        df_baselines_hc = df_baselines_hc[(df_baselines_hc.mu_x<0) & (df_baselines_hc.mu_y>0)].reset_index(drop=True)\n",
    "        df_baselines_hc = df_baselines_hc.iloc[0:n_control, :]\n",
    "        \n",
    "        # add simulated data for control group\n",
    "        for i in np.arange(n_control):\n",
    "            ctr_x = df_baselines_hc.iloc[i,0]\n",
    "            ctr_y = df_baselines_hc.iloc[i,1]\n",
    "            res.append([sigma_y, k, i, ctr_x, ctr_y, 'marker'])\n",
    "            res.append([sigma_y, k, i, ctr_x, ctr_y, 'expansion'])\n",
    "                    \n",
    "        # create baseline samples for patients\n",
    "        # create double samples in case some values fall out of allowed ranges\n",
    "        baselines_pa = np.random.multivariate_normal([mu_x, mu_y], cov, size=int(n_patient*2)) # generate baseline for individuals\n",
    "        df_baselines_pa = pd.DataFrame(baselines_pa, columns=['mu_x','mu_y'])\n",
    "        df_baselines_pa = df_baselines_pa[(df_baselines_pa.mu_x<0) & (df_baselines_pa.mu_y>0)].reset_index(drop=True)\n",
    "        df_baselines_pa = df_baselines_pa.iloc[0:n_patient, :]\n",
    "\n",
    "        # generate perturbed sample for treatment group individuals and add simulated data\n",
    "        for i in np.arange(n_patient):\n",
    "            ctr_x = df_baselines_pa.iloc[i,0]\n",
    "            ctr_y = df_baselines_pa.iloc[i,1]\n",
    "\n",
    "            # perturb oral bacterial fraction and total bacterial load\n",
    "            # randomly sample oral fraction between mu_x and 0\n",
    "\n",
    "            # marker hypothesis\n",
    "            while 1:\n",
    "                perturbed_x = np.random.uniform(low=ctr_x, high=max_oralfrac, size=1)[0]\n",
    "                new_mu_y = ctr_y-(perturbed_x-ctr_x)\n",
    "                if new_mu_y<0:\n",
    "                    continue\n",
    "                else:\n",
    "                    res.append([sigma_y, k, i, perturbed_x, new_mu_y, 'marker'])\n",
    "                    break\n",
    "                    \n",
    "            # expansion hypothesis\n",
    "            gut_load = (1-10**ctr_x) * (10**ctr_y)\n",
    "            new_mu_y = np.log10(gut_load/(1-10**perturbed_x))\n",
    "            res.append([sigma_y, k, i, perturbed_x, new_mu_y, 'expansion'])\n",
    "\n",
    "df_res = pd.DataFrame(res, columns=['Sigma','MC','Individual','X','Y','Hypothesis'])\n",
    "df_res.to_csv(\"simulated_IBD_data_%d_%d.csv.gz\"%(n_control, n_patient), compression='gzip', index=False)"
   ]
  },
  {
   "cell_type": "markdown",
   "id": "d986c2f7-8a33-4ffa-9423-cdf540db47a9",
   "metadata": {},
   "source": [
    "## Plot slope vs sigma across different MC runs"
   ]
  },
  {
   "cell_type": "code",
   "execution_count": 24,
   "id": "04ef23b7-d6d9-4cce-b37e-d25683517fb1",
   "metadata": {},
   "outputs": [
    {
     "data": {
      "text/html": [
       "<div>\n",
       "<style scoped>\n",
       "    .dataframe tbody tr th:only-of-type {\n",
       "        vertical-align: middle;\n",
       "    }\n",
       "\n",
       "    .dataframe tbody tr th {\n",
       "        vertical-align: top;\n",
       "    }\n",
       "\n",
       "    .dataframe thead th {\n",
       "        text-align: right;\n",
       "    }\n",
       "</style>\n",
       "<table border=\"1\" class=\"dataframe\">\n",
       "  <thead>\n",
       "    <tr style=\"text-align: right;\">\n",
       "      <th></th>\n",
       "      <th>MCrun</th>\n",
       "      <th>Hypothesis</th>\n",
       "      <th>Sigma</th>\n",
       "      <th>Slope</th>\n",
       "    </tr>\n",
       "  </thead>\n",
       "  <tbody>\n",
       "    <tr>\n",
       "      <th>0</th>\n",
       "      <td>0</td>\n",
       "      <td>marker</td>\n",
       "      <td>0.00</td>\n",
       "      <td>-1.000000</td>\n",
       "    </tr>\n",
       "    <tr>\n",
       "      <th>1</th>\n",
       "      <td>0</td>\n",
       "      <td>marker</td>\n",
       "      <td>0.01</td>\n",
       "      <td>-0.864206</td>\n",
       "    </tr>\n",
       "    <tr>\n",
       "      <th>2</th>\n",
       "      <td>0</td>\n",
       "      <td>marker</td>\n",
       "      <td>0.02</td>\n",
       "      <td>-0.784484</td>\n",
       "    </tr>\n",
       "    <tr>\n",
       "      <th>3</th>\n",
       "      <td>0</td>\n",
       "      <td>marker</td>\n",
       "      <td>0.03</td>\n",
       "      <td>-0.788361</td>\n",
       "    </tr>\n",
       "    <tr>\n",
       "      <th>4</th>\n",
       "      <td>0</td>\n",
       "      <td>marker</td>\n",
       "      <td>0.04</td>\n",
       "      <td>-0.942503</td>\n",
       "    </tr>\n",
       "  </tbody>\n",
       "</table>\n",
       "</div>"
      ],
      "text/plain": [
       "   MCrun Hypothesis  Sigma     Slope\n",
       "0      0     marker   0.00 -1.000000\n",
       "1      0     marker   0.01 -0.864206\n",
       "2      0     marker   0.02 -0.784484\n",
       "3      0     marker   0.03 -0.788361\n",
       "4      0     marker   0.04 -0.942503"
      ]
     },
     "execution_count": 24,
     "metadata": {},
     "output_type": "execute_result"
    }
   ],
   "source": [
    "pcc = []\n",
    "df_res = pd.read_csv(\"simulated_IBD_data_%d_%d.csv.gz\"%(n_control, n_patient), compression='gzip')\n",
    "for m in np.arange(mc_runs):\n",
    "    df_res2_m = df_res[df_res.MC==m]\n",
    "    for h in ['marker','expansion']:\n",
    "        df_res2_m_h = df_res2_m[df_res2_m.Hypothesis==h]\n",
    "        for sigma in sigma_array:\n",
    "            slope, intercept, r, p, se = linregress(df_res2_m_h[df_res2_m_h.Sigma==sigma].X, df_res2_m_h[df_res2_m_h.Sigma==sigma].Y)\n",
    "            pcc.append([m, h, sigma, slope])\n",
    "df_pcc = pd.DataFrame(pcc, columns=['MCrun','Hypothesis','Sigma','Slope'])\n",
    "df_pcc.head()"
   ]
  },
  {
   "cell_type": "code",
   "execution_count": 25,
   "id": "cf2b9a0f-942b-4308-94e6-c57e5ff40303",
   "metadata": {},
   "outputs": [
    {
     "data": {
      "image/png": "[encoded data removed]",
      "text/plain": [
       "<Figure size 500x500 with 1 Axes>"
      ]
     },
     "metadata": {},
     "output_type": "display_data"
    }
   ],
   "source": [
    "fig, ax = plt.subplots(figsize=(5,5))\n",
    "_ = sns.lineplot(x=\"Sigma\", y=\"Slope\", hue='Hypothesis', data=df_pcc, ax=ax, marker=None, errorbar='sd',\n",
    "                 hue_order=['expansion','marker'], palette=['red','blue'])\n",
    "_ = ax.plot([0,2],[-0.3,-0.3],'k--')\n",
    "_ = ax.plot([0.33,0.33],[-1,0.2],'k--')\n",
    "_ = ax.set_xlim([0,2])\n",
    "_ = ax.set_ylim([-1,0.2])\n",
    "_ = ax.plot([0,2],[0,0],'k--')               \n",
    "_ = ax.get_legend().set_visible(False)\n",
    "_ = ax.set_xlabel('Interindividual variability')"
   ]
  },
  {
   "cell_type": "code",
   "execution_count": 26,
   "id": "183ab501-4eb4-4a06-bd1c-398c9dea21b9",
   "metadata": {},
   "outputs": [
    {
     "data": {
      "text/plain": [
       "(-0.29868588285263675, 0.11004812769400084)"
      ]
     },
     "execution_count": 26,
     "metadata": {},
     "output_type": "execute_result"
    }
   ],
   "source": [
    "df_pcc[(df_pcc.Hypothesis=='marker')&(df_pcc.Sigma==0.33)].Slope.mean(), df_pcc[(df_pcc.Hypothesis=='marker')&(df_pcc.Sigma==0.33)].Slope.std()"
   ]
  },
  {
   "cell_type": "code",
   "execution_count": null,
   "id": "f7ea12f2-8e02-46c5-bec6-80f843f10923",
   "metadata": {},
   "outputs": [],
   "source": []
  },
  {
   "cell_type": "code",
   "execution_count": null,
   "id": "c9485eed-eec8-4b8e-b04e-0fa14b8d6304",
   "metadata": {},
   "outputs": [],
   "source": []
  },
  {
   "cell_type": "code",
   "execution_count": null,
   "id": "075b763b-2024-4808-ab29-e4344673e871",
   "metadata": {},
   "outputs": [],
   "source": []
  }
 ],
 "metadata": {
  "kernelspec": {
   "display_name": "Python 3 (ipykernel)",
   "language": "python",
   "name": "python3"
  },
  "language_info": {
   "codemirror_mode": {
    "name": "ipython",
    "version": 3
   },
   "file_extension": ".py",
   "mimetype": "text/x-python",
   "name": "python",
   "nbconvert_exporter": "python",
   "pygments_lexer": "ipython3",
   "version": "3.9.12"
  }
 },
 "nbformat": 4,
 "nbformat_minor": 5
}
