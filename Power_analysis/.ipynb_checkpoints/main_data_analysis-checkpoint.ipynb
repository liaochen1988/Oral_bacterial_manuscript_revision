{
 "cells": [
  {
   "cell_type": "code",
   "execution_count": 1,
   "id": "71476195-71c2-494a-8165-b9d1aab95e11",
   "metadata": {},
   "outputs": [],
   "source": [
    "import pandas as pd\n",
    "import numpy as np\n",
    "from math import sqrt\n",
    "from statsmodels.stats.power import TTestPower"
   ]
  },
  {
   "cell_type": "code",
   "execution_count": 2,
   "id": "dde94ad1-9ff6-4be4-b825-445d33193aa2",
   "metadata": {},
   "outputs": [
    {
     "data": {
      "text/html": [
       "<div>\n",
       "<style scoped>\n",
       "    .dataframe tbody tr th:only-of-type {\n",
       "        vertical-align: middle;\n",
       "    }\n",
       "\n",
       "    .dataframe tbody tr th {\n",
       "        vertical-align: top;\n",
       "    }\n",
       "\n",
       "    .dataframe thead th {\n",
       "        text-align: right;\n",
       "    }\n",
       "</style>\n",
       "<table border=\"1\" class=\"dataframe\">\n",
       "  <thead>\n",
       "    <tr style=\"text-align: right;\">\n",
       "      <th></th>\n",
       "      <th>Sample ID</th>\n",
       "      <th>Collection body site</th>\n",
       "      <th>Collection time point</th>\n",
       "      <th>Mouse ID</th>\n",
       "      <th>Treatment group</th>\n",
       "      <th>Exclusion</th>\n",
       "      <th>Total bacterial load</th>\n",
       "      <th>Oral bacterial fraction</th>\n",
       "      <th>Oral bacterial load</th>\n",
       "      <th>Gut bacterial fraction</th>\n",
       "      <th>Gut bacterial load</th>\n",
       "    </tr>\n",
       "  </thead>\n",
       "  <tbody>\n",
       "    <tr>\n",
       "      <th>0</th>\n",
       "      <td>KP_Exp_8_D0_AVN1</td>\n",
       "      <td>Fecal</td>\n",
       "      <td>pre</td>\n",
       "      <td>Abx_1A</td>\n",
       "      <td>Antibiotic</td>\n",
       "      <td>No</td>\n",
       "      <td>4.195976e+11</td>\n",
       "      <td>0.000035</td>\n",
       "      <td>1.482712e+07</td>\n",
       "      <td>0.999965</td>\n",
       "      <td>4.195827e+11</td>\n",
       "    </tr>\n",
       "    <tr>\n",
       "      <th>1</th>\n",
       "      <td>KP_Exp_8_D8_AVN1</td>\n",
       "      <td>Fecal</td>\n",
       "      <td>w1</td>\n",
       "      <td>Abx_1A</td>\n",
       "      <td>Antibiotic</td>\n",
       "      <td>No</td>\n",
       "      <td>1.743481e+08</td>\n",
       "      <td>0.224412</td>\n",
       "      <td>3.912579e+07</td>\n",
       "      <td>0.775588</td>\n",
       "      <td>1.352224e+08</td>\n",
       "    </tr>\n",
       "    <tr>\n",
       "      <th>2</th>\n",
       "      <td>KP_Exp_8_D0_OR_AVN1</td>\n",
       "      <td>Oral</td>\n",
       "      <td>pre</td>\n",
       "      <td>Abx_1A</td>\n",
       "      <td>Antibiotic</td>\n",
       "      <td>No</td>\n",
       "      <td>NaN</td>\n",
       "      <td>NaN</td>\n",
       "      <td>NaN</td>\n",
       "      <td>NaN</td>\n",
       "      <td>NaN</td>\n",
       "    </tr>\n",
       "    <tr>\n",
       "      <th>3</th>\n",
       "      <td>KP_Exp_8_D0_AVN2</td>\n",
       "      <td>Fecal</td>\n",
       "      <td>pre</td>\n",
       "      <td>Abx_1B</td>\n",
       "      <td>Antibiotic</td>\n",
       "      <td>No</td>\n",
       "      <td>4.947265e+11</td>\n",
       "      <td>0.000043</td>\n",
       "      <td>2.107843e+07</td>\n",
       "      <td>0.999957</td>\n",
       "      <td>4.947054e+11</td>\n",
       "    </tr>\n",
       "    <tr>\n",
       "      <th>4</th>\n",
       "      <td>KP_Exp_8_D8_AVN2</td>\n",
       "      <td>Fecal</td>\n",
       "      <td>w1</td>\n",
       "      <td>Abx_1B</td>\n",
       "      <td>Antibiotic</td>\n",
       "      <td>No</td>\n",
       "      <td>1.466698e+08</td>\n",
       "      <td>0.289092</td>\n",
       "      <td>4.240105e+07</td>\n",
       "      <td>0.710908</td>\n",
       "      <td>1.042687e+08</td>\n",
       "    </tr>\n",
       "  </tbody>\n",
       "</table>\n",
       "</div>"
      ],
      "text/plain": [
       "             Sample ID Collection body site Collection time point Mouse ID  \\\n",
       "0     KP_Exp_8_D0_AVN1                Fecal                   pre   Abx_1A   \n",
       "1     KP_Exp_8_D8_AVN1                Fecal                    w1   Abx_1A   \n",
       "2  KP_Exp_8_D0_OR_AVN1                 Oral                   pre   Abx_1A   \n",
       "3     KP_Exp_8_D0_AVN2                Fecal                   pre   Abx_1B   \n",
       "4     KP_Exp_8_D8_AVN2                Fecal                    w1   Abx_1B   \n",
       "\n",
       "  Treatment group Exclusion  Total bacterial load  Oral bacterial fraction  \\\n",
       "0      Antibiotic        No          4.195976e+11                 0.000035   \n",
       "1      Antibiotic        No          1.743481e+08                 0.224412   \n",
       "2      Antibiotic        No                   NaN                      NaN   \n",
       "3      Antibiotic        No          4.947265e+11                 0.000043   \n",
       "4      Antibiotic        No          1.466698e+08                 0.289092   \n",
       "\n",
       "   Oral bacterial load  Gut bacterial fraction  Gut bacterial load  \n",
       "0         1.482712e+07                0.999965        4.195827e+11  \n",
       "1         3.912579e+07                0.775588        1.352224e+08  \n",
       "2                  NaN                     NaN                 NaN  \n",
       "3         2.107843e+07                0.999957        4.947054e+11  \n",
       "4         4.240105e+07                0.710908        1.042687e+08  "
      ]
     },
     "execution_count": 2,
     "metadata": {},
     "output_type": "execute_result"
    }
   ],
   "source": [
    "df = pd.read_excel(\"../Fig2|EDFig1b_2_3|TableS2/ST1_oralASV_mouse.xlsx\", sheet_name=\"Table S1b\")\n",
    "df.head()"
   ]
  },
  {
   "cell_type": "markdown",
   "id": "3d32171b-cb30-4331-8f1e-4cebfc426e9a",
   "metadata": {},
   "source": [
    "# First experiment only"
   ]
  },
  {
   "cell_type": "code",
   "execution_count": 3,
   "id": "48b4ed72-93c8-4bcf-a31b-04623c849d94",
   "metadata": {},
   "outputs": [
    {
     "data": {
      "text/html": [
       "<div>\n",
       "<style scoped>\n",
       "    .dataframe tbody tr th:only-of-type {\n",
       "        vertical-align: middle;\n",
       "    }\n",
       "\n",
       "    .dataframe tbody tr th {\n",
       "        vertical-align: top;\n",
       "    }\n",
       "\n",
       "    .dataframe thead th {\n",
       "        text-align: right;\n",
       "    }\n",
       "</style>\n",
       "<table border=\"1\" class=\"dataframe\">\n",
       "  <thead>\n",
       "    <tr style=\"text-align: right;\">\n",
       "      <th>Collection time point</th>\n",
       "      <th>pre</th>\n",
       "      <th>w1</th>\n",
       "    </tr>\n",
       "    <tr>\n",
       "      <th>Mouse ID</th>\n",
       "      <th></th>\n",
       "      <th></th>\n",
       "    </tr>\n",
       "  </thead>\n",
       "  <tbody>\n",
       "    <tr>\n",
       "      <th>Abx_1A</th>\n",
       "      <td>4.195827e+11</td>\n",
       "      <td>1.352224e+08</td>\n",
       "    </tr>\n",
       "    <tr>\n",
       "      <th>Abx_1B</th>\n",
       "      <td>4.947054e+11</td>\n",
       "      <td>1.042687e+08</td>\n",
       "    </tr>\n",
       "    <tr>\n",
       "      <th>Abx_1C</th>\n",
       "      <td>5.361720e+11</td>\n",
       "      <td>9.092405e+07</td>\n",
       "    </tr>\n",
       "  </tbody>\n",
       "</table>\n",
       "</div>"
      ],
      "text/plain": [
       "Collection time point           pre            w1\n",
       "Mouse ID                                         \n",
       "Abx_1A                 4.195827e+11  1.352224e+08\n",
       "Abx_1B                 4.947054e+11  1.042687e+08\n",
       "Abx_1C                 5.361720e+11  9.092405e+07"
      ]
     },
     "execution_count": 3,
     "metadata": {},
     "output_type": "execute_result"
    }
   ],
   "source": [
    "df1 = df[df['Mouse ID'].str.contains('Abx_1')][['Mouse ID','Collection time point','Gut bacterial load']]\n",
    "df1 = pd.pivot_table(df1, index='Mouse ID', columns='Collection time point', values='Gut bacterial load')\n",
    "df1"
   ]
  },
  {
   "cell_type": "code",
   "execution_count": 4,
   "id": "15fc9b28-4fee-462c-a991-828dcb68686d",
   "metadata": {},
   "outputs": [
    {
     "name": "stdout",
     "output_type": "stream",
     "text": [
      "power of 3 mice: 1.000000\n"
     ]
    }
   ],
   "source": [
    "n_pre = 3\n",
    "n_post = 3\n",
    "gutload_pre = list(df1.pre)\n",
    "gutload_post = list(df1.w1)\n",
    "s_pre, s_post = np.var(gutload_pre), np.var(gutload_post)\n",
    "s = sqrt(((n_pre - 1) * s_pre + (n_post - 1) * s_post) / (n_pre + n_post - 2)) # calculate the pooled standard deviation \n",
    "u_pre, u_post = np.mean(gutload_pre), np.mean(gutload_post) # means of the samples\n",
    "d = (u_pre - u_post) / s # calculate the effect size\n",
    "alpha = 0.05 # significance leve\n",
    "obj = TTestPower()\n",
    "power = obj.power(effect_size=d, nobs=3, alpha=alpha, df=None, alternative='larger')\n",
    "print('power of 3 mice: %.6f'%(power))"
   ]
  },
  {
   "cell_type": "markdown",
   "id": "54170579-4b63-43ac-b5e4-693e634f0889",
   "metadata": {},
   "source": [
    "# Combine both experiments"
   ]
  },
  {
   "cell_type": "markdown",
   "id": "e4864006-62a5-49b1-b071-8ff594b23898",
   "metadata": {},
   "source": [
    "## Mouse Abx_2B lacks pre-treatment fecal sample"
   ]
  },
  {
   "cell_type": "code",
   "execution_count": 5,
   "id": "d00ae839-a7b6-489e-b83e-91258a4c73c5",
   "metadata": {},
   "outputs": [
    {
     "data": {
      "text/html": [
       "<div>\n",
       "<style scoped>\n",
       "    .dataframe tbody tr th:only-of-type {\n",
       "        vertical-align: middle;\n",
       "    }\n",
       "\n",
       "    .dataframe tbody tr th {\n",
       "        vertical-align: top;\n",
       "    }\n",
       "\n",
       "    .dataframe thead th {\n",
       "        text-align: right;\n",
       "    }\n",
       "</style>\n",
       "<table border=\"1\" class=\"dataframe\">\n",
       "  <thead>\n",
       "    <tr style=\"text-align: right;\">\n",
       "      <th>Collection time point</th>\n",
       "      <th>pre</th>\n",
       "      <th>post</th>\n",
       "    </tr>\n",
       "    <tr>\n",
       "      <th>Mouse ID</th>\n",
       "      <th></th>\n",
       "      <th></th>\n",
       "    </tr>\n",
       "  </thead>\n",
       "  <tbody>\n",
       "    <tr>\n",
       "      <th>Abx_1A</th>\n",
       "      <td>4.195827e+11</td>\n",
       "      <td>1.352224e+08</td>\n",
       "    </tr>\n",
       "    <tr>\n",
       "      <th>Abx_1B</th>\n",
       "      <td>4.947054e+11</td>\n",
       "      <td>1.042687e+08</td>\n",
       "    </tr>\n",
       "    <tr>\n",
       "      <th>Abx_1C</th>\n",
       "      <td>5.361720e+11</td>\n",
       "      <td>9.092405e+07</td>\n",
       "    </tr>\n",
       "    <tr>\n",
       "      <th>Abx_2A</th>\n",
       "      <td>1.153214e+10</td>\n",
       "      <td>1.255068e+07</td>\n",
       "    </tr>\n",
       "    <tr>\n",
       "      <th>Abx_2C</th>\n",
       "      <td>1.222237e+10</td>\n",
       "      <td>2.140783e+06</td>\n",
       "    </tr>\n",
       "    <tr>\n",
       "      <th>Abx_2D</th>\n",
       "      <td>8.795456e+09</td>\n",
       "      <td>4.037800e+06</td>\n",
       "    </tr>\n",
       "    <tr>\n",
       "      <th>Abx_2E</th>\n",
       "      <td>9.157845e+09</td>\n",
       "      <td>3.101776e+06</td>\n",
       "    </tr>\n",
       "  </tbody>\n",
       "</table>\n",
       "</div>"
      ],
      "text/plain": [
       "Collection time point           pre          post\n",
       "Mouse ID                                         \n",
       "Abx_1A                 4.195827e+11  1.352224e+08\n",
       "Abx_1B                 4.947054e+11  1.042687e+08\n",
       "Abx_1C                 5.361720e+11  9.092405e+07\n",
       "Abx_2A                 1.153214e+10  1.255068e+07\n",
       "Abx_2C                 1.222237e+10  2.140783e+06\n",
       "Abx_2D                 8.795456e+09  4.037800e+06\n",
       "Abx_2E                 9.157845e+09  3.101776e+06"
      ]
     },
     "execution_count": 5,
     "metadata": {},
     "output_type": "execute_result"
    }
   ],
   "source": [
    "df12 = df[df['Mouse ID'].str.contains('Abx')][['Mouse ID','Collection time point','Gut bacterial load']]\n",
    "df12 = pd.pivot_table(df12, index='Mouse ID', columns='Collection time point', values='Gut bacterial load')\n",
    "df12['post'] = np.nanmean(df12[['d3','w1']], axis=1)\n",
    "df12 = df12[['pre','post']]\n",
    "df12 = df12[(df12.pre.notnull()) & (df12.post.notnull())]\n",
    "df12"
   ]
  },
  {
   "cell_type": "code",
   "execution_count": 6,
   "id": "ec551ff4-fbbf-4de6-896f-a7922bea550d",
   "metadata": {},
   "outputs": [
    {
     "name": "stdout",
     "output_type": "stream",
     "text": [
      "power of 7 mice: 0.906716\n"
     ]
    }
   ],
   "source": [
    "n_pre = 7\n",
    "n_post = 7\n",
    "gutload_pre = list(df12.pre)\n",
    "gutload_post = list(df12.post)\n",
    "s_pre, s_post = np.var(gutload_pre), np.var(gutload_post)\n",
    "s = sqrt(((n_pre - 1) * s_pre + (n_post - 1) * s_post) / (n_pre + n_post - 2)) # calculate the pooled standard deviation \n",
    "u_pre, u_post = np.mean(gutload_pre), np.mean(gutload_post) # means of the samples\n",
    "d = (u_pre - u_post) / s # calculate the effect size\n",
    "alpha = 0.05 # significance leve\n",
    "obj = TTestPower()\n",
    "obj = TTestPower()\n",
    "power = obj.power(effect_size=d, nobs=7, alpha=alpha, df=None, alternative='larger')\n",
    "print('power of 7 mice: %.6f'%(power))"
   ]
  },
  {
   "cell_type": "code",
   "execution_count": null,
   "id": "a4b560fa-72ba-442d-9415-3865b6cd3081",
   "metadata": {},
   "outputs": [],
   "source": []
  },
  {
   "cell_type": "code",
   "execution_count": null,
   "id": "d8a22241-66b5-4eaa-8144-b730cb0c4b42",
   "metadata": {},
   "outputs": [],
   "source": []
  }
 ],
 "metadata": {
  "kernelspec": {
   "display_name": "Python 3 (ipykernel)",
   "language": "python",
   "name": "python3"
  },
  "language_info": {
   "codemirror_mode": {
    "name": "ipython",
    "version": 3
   },
   "file_extension": ".py",
   "mimetype": "text/x-python",
   "name": "python",
   "nbconvert_exporter": "python",
   "pygments_lexer": "ipython3",
   "version": "3.9.12"
  }
 },
 "nbformat": 4,
 "nbformat_minor": 5
}
