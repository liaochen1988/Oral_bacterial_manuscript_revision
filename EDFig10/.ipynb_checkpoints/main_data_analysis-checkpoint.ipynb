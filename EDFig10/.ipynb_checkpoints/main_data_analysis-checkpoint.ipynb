{
 "cells": [
  {
   "cell_type": "code",
   "execution_count": 1,
   "id": "cfde09a5-a06e-468f-8007-6116eeb5791e",
   "metadata": {},
   "outputs": [],
   "source": [
    "import pandas as pd\n",
    "import numpy as np\n",
    "import matplotlib.pyplot as plt\n",
    "import seaborn as sns\n",
    "from scipy.stats import fisher_exact\n",
    "from sklearn.model_selection import KFold\n",
    "from scipy.optimize import differential_evolution\n",
    "from sklearn.metrics import precision_score, recall_score, accuracy_score, f1_score\n",
    "from collections import Counter\n",
    "import warnings\n",
    "warnings.filterwarnings(\"ignore\")"
   ]
  },
  {
   "cell_type": "markdown",
   "id": "37e2ca59-5e92-4943-9f6c-225c445b3494",
   "metadata": {},
   "source": [
    "# Read metadata"
   ]
  },
  {
   "cell_type": "markdown",
   "id": "d572e62f-d34f-459f-bc66-525b9a48d714",
   "metadata": {},
   "source": [
    "## allo-HCT"
   ]
  },
  {
   "cell_type": "code",
   "execution_count": 2,
   "id": "65d78067-a3f8-4fd4-b6e3-ae365fb2b773",
   "metadata": {},
   "outputs": [
    {
     "data": {
      "text/html": [
       "<div>\n",
       "<style scoped>\n",
       "    .dataframe tbody tr th:only-of-type {\n",
       "        vertical-align: middle;\n",
       "    }\n",
       "\n",
       "    .dataframe tbody tr th {\n",
       "        vertical-align: top;\n",
       "    }\n",
       "\n",
       "    .dataframe thead th {\n",
       "        text-align: right;\n",
       "    }\n",
       "</style>\n",
       "<table border=\"1\" class=\"dataframe\">\n",
       "  <thead>\n",
       "    <tr style=\"text-align: right;\">\n",
       "      <th></th>\n",
       "      <th>SampleID</th>\n",
       "      <th>OralFraction</th>\n",
       "      <th>TotalLoad</th>\n",
       "      <th>Group</th>\n",
       "    </tr>\n",
       "  </thead>\n",
       "  <tbody>\n",
       "    <tr>\n",
       "      <th>44</th>\n",
       "      <td>1015A</td>\n",
       "      <td>0.022657</td>\n",
       "      <td>5.379385e+07</td>\n",
       "      <td>Allo-HCT</td>\n",
       "    </tr>\n",
       "    <tr>\n",
       "      <th>45</th>\n",
       "      <td>1015D</td>\n",
       "      <td>0.001502</td>\n",
       "      <td>3.877487e+03</td>\n",
       "      <td>Allo-HCT</td>\n",
       "    </tr>\n",
       "    <tr>\n",
       "      <th>46</th>\n",
       "      <td>1015G</td>\n",
       "      <td>0.027263</td>\n",
       "      <td>5.280994e+06</td>\n",
       "      <td>Allo-HCT</td>\n",
       "    </tr>\n",
       "    <tr>\n",
       "      <th>47</th>\n",
       "      <td>1015H</td>\n",
       "      <td>0.075463</td>\n",
       "      <td>7.332446e+05</td>\n",
       "      <td>Allo-HCT</td>\n",
       "    </tr>\n",
       "    <tr>\n",
       "      <th>58</th>\n",
       "      <td>1016A</td>\n",
       "      <td>0.176350</td>\n",
       "      <td>5.752710e+06</td>\n",
       "      <td>Allo-HCT</td>\n",
       "    </tr>\n",
       "  </tbody>\n",
       "</table>\n",
       "</div>"
      ],
      "text/plain": [
       "   SampleID  OralFraction     TotalLoad     Group\n",
       "44    1015A      0.022657  5.379385e+07  Allo-HCT\n",
       "45    1015D      0.001502  3.877487e+03  Allo-HCT\n",
       "46    1015G      0.027263  5.280994e+06  Allo-HCT\n",
       "47    1015H      0.075463  7.332446e+05  Allo-HCT\n",
       "58    1016A      0.176350  5.752710e+06  Allo-HCT"
      ]
     },
     "execution_count": 2,
     "metadata": {},
     "output_type": "execute_result"
    }
   ],
   "source": [
    "df1 = pd.read_excel(\"../../Supplementary_tables/ST4_oralASV_alloHCT.xlsx\", sheet_name='Table S4b')\n",
    "df1['Patient ID'] = df1['Patient ID'].astype(str)\n",
    "df1.columns = ['SampleID','PatientID','DayRelativeToNearestHCT','TotalLoad','OralFraction','OralLoad','GutFraction','GutLoad','Timepoint','StoolConsistency','FungalCulturability']\n",
    "df1 = df1[['SampleID','OralFraction','TotalLoad']]\n",
    "df1 = df1[df1.TotalLoad.notnull()]\n",
    "df1['Group'] = 'Allo-HCT'\n",
    "df1.head()"
   ]
  },
  {
   "cell_type": "markdown",
   "id": "7338b449-89f8-4ba7-813b-fe5d1e6d2b2f",
   "metadata": {},
   "source": [
    "## Crohn's disease"
   ]
  },
  {
   "cell_type": "code",
   "execution_count": 3,
   "id": "20abb1a8-0469-4805-a34e-80e8c171fdf0",
   "metadata": {},
   "outputs": [
    {
     "data": {
      "text/html": [
       "<div>\n",
       "<style scoped>\n",
       "    .dataframe tbody tr th:only-of-type {\n",
       "        vertical-align: middle;\n",
       "    }\n",
       "\n",
       "    .dataframe tbody tr th {\n",
       "        vertical-align: top;\n",
       "    }\n",
       "\n",
       "    .dataframe thead th {\n",
       "        text-align: right;\n",
       "    }\n",
       "</style>\n",
       "<table border=\"1\" class=\"dataframe\">\n",
       "  <thead>\n",
       "    <tr style=\"text-align: right;\">\n",
       "      <th></th>\n",
       "      <th>SampleID</th>\n",
       "      <th>OralFraction</th>\n",
       "      <th>TotalLoad</th>\n",
       "      <th>Group</th>\n",
       "    </tr>\n",
       "  </thead>\n",
       "  <tbody>\n",
       "    <tr>\n",
       "      <th>0</th>\n",
       "      <td>ERR2015047</td>\n",
       "      <td>0.000826</td>\n",
       "      <td>1.900000e+11</td>\n",
       "      <td>CD</td>\n",
       "    </tr>\n",
       "    <tr>\n",
       "      <th>1</th>\n",
       "      <td>ERR2015048</td>\n",
       "      <td>0.101783</td>\n",
       "      <td>1.480000e+11</td>\n",
       "      <td>CD</td>\n",
       "    </tr>\n",
       "    <tr>\n",
       "      <th>2</th>\n",
       "      <td>ERR2015049</td>\n",
       "      <td>0.001470</td>\n",
       "      <td>1.170000e+11</td>\n",
       "      <td>CD</td>\n",
       "    </tr>\n",
       "    <tr>\n",
       "      <th>3</th>\n",
       "      <td>ERR2015050</td>\n",
       "      <td>0.000000</td>\n",
       "      <td>1.530000e+11</td>\n",
       "      <td>CD</td>\n",
       "    </tr>\n",
       "    <tr>\n",
       "      <th>4</th>\n",
       "      <td>ERR2015051</td>\n",
       "      <td>0.000304</td>\n",
       "      <td>1.060000e+11</td>\n",
       "      <td>CD</td>\n",
       "    </tr>\n",
       "  </tbody>\n",
       "</table>\n",
       "</div>"
      ],
      "text/plain": [
       "     SampleID  OralFraction     TotalLoad Group\n",
       "0  ERR2015047      0.000826  1.900000e+11    CD\n",
       "1  ERR2015048      0.101783  1.480000e+11    CD\n",
       "2  ERR2015049      0.001470  1.170000e+11    CD\n",
       "3  ERR2015050      0.000000  1.530000e+11    CD\n",
       "4  ERR2015051      0.000304  1.060000e+11    CD"
      ]
     },
     "execution_count": 3,
     "metadata": {},
     "output_type": "execute_result"
    }
   ],
   "source": [
    "df2 = pd.read_csv(\"../Fig4/metadata.csv\").rename({\"MicrobiotaDensity\":\"TotalLoad\"}, axis=1)\n",
    "df2 = df2[['SampleID','OralFraction','TotalLoad']]\n",
    "df2 = df2[df2.TotalLoad.notnull()]\n",
    "df2['Group'] = 'CD'\n",
    "df2.head()"
   ]
  },
  {
   "cell_type": "markdown",
   "id": "a81139e6-7eee-4289-8110-8342823fa054",
   "metadata": {},
   "source": [
    "## merge"
   ]
  },
  {
   "cell_type": "code",
   "execution_count": 4,
   "id": "bcf939b6-7e4a-460d-9bd4-a00793928e61",
   "metadata": {},
   "outputs": [
    {
     "data": {
      "text/html": [
       "<div>\n",
       "<style scoped>\n",
       "    .dataframe tbody tr th:only-of-type {\n",
       "        vertical-align: middle;\n",
       "    }\n",
       "\n",
       "    .dataframe tbody tr th {\n",
       "        vertical-align: top;\n",
       "    }\n",
       "\n",
       "    .dataframe thead th {\n",
       "        text-align: right;\n",
       "    }\n",
       "</style>\n",
       "<table border=\"1\" class=\"dataframe\">\n",
       "  <thead>\n",
       "    <tr style=\"text-align: right;\">\n",
       "      <th></th>\n",
       "      <th>SampleID</th>\n",
       "      <th>OralFraction</th>\n",
       "      <th>TotalLoad</th>\n",
       "      <th>Group</th>\n",
       "    </tr>\n",
       "  </thead>\n",
       "  <tbody>\n",
       "    <tr>\n",
       "      <th>44</th>\n",
       "      <td>1015A</td>\n",
       "      <td>0.022657</td>\n",
       "      <td>5.379385e+07</td>\n",
       "      <td>Allo-HCT</td>\n",
       "    </tr>\n",
       "    <tr>\n",
       "      <th>45</th>\n",
       "      <td>1015D</td>\n",
       "      <td>0.001502</td>\n",
       "      <td>3.877487e+03</td>\n",
       "      <td>Allo-HCT</td>\n",
       "    </tr>\n",
       "    <tr>\n",
       "      <th>46</th>\n",
       "      <td>1015G</td>\n",
       "      <td>0.027263</td>\n",
       "      <td>5.280994e+06</td>\n",
       "      <td>Allo-HCT</td>\n",
       "    </tr>\n",
       "    <tr>\n",
       "      <th>47</th>\n",
       "      <td>1015H</td>\n",
       "      <td>0.075463</td>\n",
       "      <td>7.332446e+05</td>\n",
       "      <td>Allo-HCT</td>\n",
       "    </tr>\n",
       "    <tr>\n",
       "      <th>58</th>\n",
       "      <td>1016A</td>\n",
       "      <td>0.176350</td>\n",
       "      <td>5.752710e+06</td>\n",
       "      <td>Allo-HCT</td>\n",
       "    </tr>\n",
       "  </tbody>\n",
       "</table>\n",
       "</div>"
      ],
      "text/plain": [
       "   SampleID  OralFraction     TotalLoad     Group\n",
       "44    1015A      0.022657  5.379385e+07  Allo-HCT\n",
       "45    1015D      0.001502  3.877487e+03  Allo-HCT\n",
       "46    1015G      0.027263  5.280994e+06  Allo-HCT\n",
       "47    1015H      0.075463  7.332446e+05  Allo-HCT\n",
       "58    1016A      0.176350  5.752710e+06  Allo-HCT"
      ]
     },
     "execution_count": 4,
     "metadata": {},
     "output_type": "execute_result"
    }
   ],
   "source": [
    "df = pd.concat([df1,df2], axis=0)\n",
    "df.head()"
   ]
  },
  {
   "cell_type": "code",
   "execution_count": 5,
   "id": "f3bce75f-7174-4fb9-8e59-4d688e3d96b7",
   "metadata": {},
   "outputs": [
    {
     "data": {
      "text/plain": [
       "Counter({'Allo-HCT': 3108, 'CD': 135})"
      ]
     },
     "execution_count": 5,
     "metadata": {},
     "output_type": "execute_result"
    }
   ],
   "source": [
    "Counter(df.Group)"
   ]
  },
  {
   "cell_type": "markdown",
   "id": "4ed39c77-c341-4b83-ad94-aacdda664665",
   "metadata": {},
   "source": [
    "# Compute prediction accuracy"
   ]
  },
  {
   "cell_type": "code",
   "execution_count": 6,
   "id": "a8ce8b30-9704-42a3-95c1-8318a17b62c8",
   "metadata": {},
   "outputs": [
    {
     "data": {
      "text/html": [
       "<div>\n",
       "<style scoped>\n",
       "    .dataframe tbody tr th:only-of-type {\n",
       "        vertical-align: middle;\n",
       "    }\n",
       "\n",
       "    .dataframe tbody tr th {\n",
       "        vertical-align: top;\n",
       "    }\n",
       "\n",
       "    .dataframe thead th {\n",
       "        text-align: right;\n",
       "    }\n",
       "</style>\n",
       "<table border=\"1\" class=\"dataframe\">\n",
       "  <thead>\n",
       "    <tr style=\"text-align: right;\">\n",
       "      <th></th>\n",
       "      <th>Group</th>\n",
       "      <th>Seed</th>\n",
       "      <th>Fold</th>\n",
       "      <th>ThresOral</th>\n",
       "      <th>ThresDensity</th>\n",
       "      <th>Precision</th>\n",
       "      <th>Recall</th>\n",
       "      <th>F1</th>\n",
       "      <th>Accuracy</th>\n",
       "    </tr>\n",
       "  </thead>\n",
       "  <tbody>\n",
       "    <tr>\n",
       "      <th>0</th>\n",
       "      <td>Allo-HCT</td>\n",
       "      <td>0</td>\n",
       "      <td>1</td>\n",
       "      <td>0.235224</td>\n",
       "      <td>9.811782e+06</td>\n",
       "      <td>0.658120</td>\n",
       "      <td>0.350000</td>\n",
       "      <td>0.456973</td>\n",
       "      <td>0.705788</td>\n",
       "    </tr>\n",
       "    <tr>\n",
       "      <th>1</th>\n",
       "      <td>Allo-HCT</td>\n",
       "      <td>0</td>\n",
       "      <td>2</td>\n",
       "      <td>0.235295</td>\n",
       "      <td>9.816709e+06</td>\n",
       "      <td>0.729508</td>\n",
       "      <td>0.381974</td>\n",
       "      <td>0.501408</td>\n",
       "      <td>0.715434</td>\n",
       "    </tr>\n",
       "    <tr>\n",
       "      <th>2</th>\n",
       "      <td>Allo-HCT</td>\n",
       "      <td>0</td>\n",
       "      <td>3</td>\n",
       "      <td>0.232541</td>\n",
       "      <td>1.971972e+07</td>\n",
       "      <td>0.739837</td>\n",
       "      <td>0.313793</td>\n",
       "      <td>0.440678</td>\n",
       "      <td>0.628617</td>\n",
       "    </tr>\n",
       "    <tr>\n",
       "      <th>3</th>\n",
       "      <td>Allo-HCT</td>\n",
       "      <td>0</td>\n",
       "      <td>4</td>\n",
       "      <td>0.219500</td>\n",
       "      <td>2.893977e+07</td>\n",
       "      <td>0.822581</td>\n",
       "      <td>0.323810</td>\n",
       "      <td>0.464692</td>\n",
       "      <td>0.621578</td>\n",
       "    </tr>\n",
       "    <tr>\n",
       "      <th>4</th>\n",
       "      <td>Allo-HCT</td>\n",
       "      <td>0</td>\n",
       "      <td>5</td>\n",
       "      <td>0.231922</td>\n",
       "      <td>9.752206e+06</td>\n",
       "      <td>0.694656</td>\n",
       "      <td>0.437500</td>\n",
       "      <td>0.536873</td>\n",
       "      <td>0.747182</td>\n",
       "    </tr>\n",
       "  </tbody>\n",
       "</table>\n",
       "</div>"
      ],
      "text/plain": [
       "      Group  Seed  Fold  ThresOral  ThresDensity  Precision    Recall  \\\n",
       "0  Allo-HCT     0     1   0.235224  9.811782e+06   0.658120  0.350000   \n",
       "1  Allo-HCT     0     2   0.235295  9.816709e+06   0.729508  0.381974   \n",
       "2  Allo-HCT     0     3   0.232541  1.971972e+07   0.739837  0.313793   \n",
       "3  Allo-HCT     0     4   0.219500  2.893977e+07   0.822581  0.323810   \n",
       "4  Allo-HCT     0     5   0.231922  9.752206e+06   0.694656  0.437500   \n",
       "\n",
       "         F1  Accuracy  \n",
       "0  0.456973  0.705788  \n",
       "1  0.501408  0.715434  \n",
       "2  0.440678  0.628617  \n",
       "3  0.464692  0.621578  \n",
       "4  0.536873  0.747182  "
      ]
     },
     "execution_count": 6,
     "metadata": {},
     "output_type": "execute_result"
    }
   ],
   "source": [
    "lines = []\n",
    "for group in ['Allo-HCT','CD']:\n",
    "    for seed in np.arange(0,50):\n",
    "        df_tmp = df[df.Group == group]\n",
    "        kf = KFold(n_splits=5, random_state=seed, shuffle=True)\n",
    "        \n",
    "        fold = 1\n",
    "        for train_index, test_index in kf.split(np.array(df_tmp.OralFraction)):\n",
    "            df_tmp_train = df_tmp.iloc[train_index]\n",
    "            df_tmp_test  = df_tmp.iloc[test_index]\n",
    "\n",
    "            def fisher_pvalue(params):\n",
    "                a,b = params\n",
    "                theta_oral = 10**a\n",
    "                theta_density = 10**b\n",
    "                low_low = len(df_tmp_train[(df_tmp_train.OralFraction < theta_oral) & (df_tmp_train.TotalLoad < theta_density)])\n",
    "                low_high = len(df_tmp_train[(df_tmp_train.OralFraction < theta_oral) & (df_tmp_train.TotalLoad >= theta_density)])\n",
    "                high_low = len(df_tmp_train[(df_tmp_train.OralFraction >= theta_oral) & (df_tmp_train.TotalLoad < theta_density)])\n",
    "                high_high = len(df_tmp_train[(df_tmp_train.OralFraction >= theta_oral) & (df_tmp_train.TotalLoad >= theta_density)])\n",
    "                _, pvalue = fisher_exact([[low_low, high_low], [low_high, high_high]])\n",
    "                return float(np.log10(pvalue))\n",
    "\n",
    "            if group == \"Allo-HCT\":\n",
    "                res = differential_evolution(fisher_pvalue, bounds=[(-4,0),(3,10)], tol=1e-8, seed=42, mutation=1.99)\n",
    "            elif group == 'CD':\n",
    "                res = differential_evolution(fisher_pvalue, bounds=[(-4,0),(9,12)], tol=1e-8, seed=42, mutation=1.99)\n",
    "\n",
    "            thres_oral = 10**res.x[0]\n",
    "            thres_density = 10**res.x[1]\n",
    "            df_tmp_test['Observation'] = 1 # low density\n",
    "            df_tmp_test.loc[df_tmp_test.TotalLoad >= thres_density, 'Observation'] = 0 # high density\n",
    "            df_tmp_test['Prediction'] = 0 # low oral -> high density\n",
    "            df_tmp_test.loc[df_tmp_test.OralFraction >= thres_oral, 'Prediction'] = 1 # high oral -> low density\n",
    "\n",
    "            precision = precision_score(y_true=df_tmp_test.Observation, y_pred=df_tmp_test.Prediction)\n",
    "            recall = recall_score(y_true=df_tmp_test.Observation, y_pred=df_tmp_test.Prediction)\n",
    "            f1 = f1_score(y_true=df_tmp_test.Observation, y_pred=df_tmp_test.Prediction)\n",
    "            accuracy = accuracy_score(y_true=df_tmp_test.Observation, y_pred=df_tmp_test.Prediction) \n",
    "            lines.append([group, seed, fold, thres_oral, thres_density, precision, recall, f1, accuracy])\n",
    "            fold += 1\n",
    "\n",
    "df_res = pd.DataFrame(lines, columns=['Group','Seed','Fold','ThresOral','ThresDensity','Precision','Recall','F1','Accuracy'])\n",
    "df_res.head()"
   ]
  },
  {
   "cell_type": "code",
   "execution_count": 7,
   "id": "b7c568c7-c3b0-4189-8cdd-33367ab696a9",
   "metadata": {},
   "outputs": [],
   "source": [
    "df_res.to_csv(\"predict_totalload_from_oralfraction_cv5.csv\", index=False)"
   ]
  },
  {
   "cell_type": "markdown",
   "id": "94908859-de35-48fe-b85d-0438583a1c41",
   "metadata": {},
   "source": [
    "# Plot predictive performance"
   ]
  },
  {
   "cell_type": "code",
   "execution_count": 8,
   "id": "f23906c8-1fbe-4eb1-a711-66aa5dd0513b",
   "metadata": {},
   "outputs": [
    {
     "data": {
      "image/png": "[encoded data removed]",
      "text/plain": [
       "<Figure size 300x300 with 1 Axes>"
      ]
     },
     "metadata": {},
     "output_type": "display_data"
    }
   ],
   "source": [
    "fig, ax = plt.subplots(nrows=1, ncols=1, figsize=(3,3))\n",
    "PROPS = {\n",
    "    'boxprops':{'facecolor':'none', 'edgecolor':'black'},\n",
    "    'medianprops':{'color':'black'},\n",
    "    'whiskerprops':{'color':'black'},\n",
    "    'capprops':{'color':'black'}\n",
    "}\n",
    "\n",
    "order = ['Allo-HCT','CD']\n",
    "\n",
    "df_res_summary = df_res.groupby(['Group','Seed'])[['Precision','Recall','F1','Accuracy']].agg(np.mean).reset_index()\n",
    "_ = sns.boxplot(x=\"Group\", y=\"Accuracy\", data=df_res_summary, ax=ax, showfliers=False, **PROPS, order=order)\n",
    "_ = sns.stripplot(x=\"Group\", y=\"Accuracy\", data=df_res_summary, ax=ax, order=order, s=5, jitter=0.2, color='gray')\n",
    "_ = ax.set_ylim([0.4,0.8])"
   ]
  },
  {
   "cell_type": "code",
   "execution_count": 9,
   "id": "3bf460b1-0777-4c3b-a5f3-263a2084a5bb",
   "metadata": {},
   "outputs": [
    {
     "data": {
      "text/plain": [
       "Group\n",
       "Allo-HCT    0.686742\n",
       "CD          0.640296\n",
       "Name: Accuracy, dtype: float64"
      ]
     },
     "execution_count": 9,
     "metadata": {},
     "output_type": "execute_result"
    }
   ],
   "source": [
    "df_res_summary.groupby('Group')['Accuracy'].agg(np.mean)"
   ]
  },
  {
   "cell_type": "code",
   "execution_count": null,
   "id": "0c73177d-f59d-4684-8270-4dd369a864ae",
   "metadata": {},
   "outputs": [],
   "source": []
  }
 ],
 "metadata": {
  "kernelspec": {
   "display_name": "Python 3 (ipykernel)",
   "language": "python",
   "name": "python3"
  },
  "language_info": {
   "codemirror_mode": {
    "name": "ipython",
    "version": 3
   },
   "file_extension": ".py",
   "mimetype": "text/x-python",
   "name": "python",
   "nbconvert_exporter": "python",
   "pygments_lexer": "ipython3",
   "version": "3.9.12"
  }
 },
 "nbformat": 4,
 "nbformat_minor": 5
}
